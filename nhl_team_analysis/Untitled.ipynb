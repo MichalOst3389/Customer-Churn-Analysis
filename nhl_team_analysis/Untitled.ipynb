{
 "cells": [
  {
   "cell_type": "markdown",
   "metadata": {},
   "source": [
    "# Business Problem\n",
    "\n",
    "The Buffalo Sabres have recently shown promising performance and are expected to do even better next year. In light of this, the team's General Manager, Kevyn Adams, has requested the assistance of a data scientist to conduct a comprehensive analysis of the team's offense and defense, with the ultimate goal of identifying areas for improvement.\n",
    "\n",
    "Given the recent acquisition of goaltender Devon Levi, our analysis will focus exclusively on the team's offense and defense. As a data scientist, my role in this project is to leverage statistical techniques and machine learning algorithms to identify key trends and patterns in the Sabres' performance data. Based on this analysis, I will develop actionable recommendations that can be used by the team's coaching staff and management to improve their performance on the ice.\n",
    "\n",
    "Throughout the course of this project, I will be using advanced statistical analysis to identify key trends and patterns in the Buffalo Sabres' performance data. Specifically, I will be using data from moneypuck.com, a leading sports analytics website that provides detailed statistics and insights on NHL teams and players. By taking a collaborative and data-driven approach, we can uncover insights and opportunities that will help the Sabres achieve their goals and continue to build on their recent success.\n",
    "\n",
    "\n",
    "since the team is young we want to focus on player development.\n",
    "focus on defense as a whole, and offense as another.\n",
    "identify which we need to focus on more.\n",
    "make recommendations on that.\n",
    "are there any players we should cut ties with?"
   ]
  },
  {
   "cell_type": "code",
   "execution_count": 75,
   "metadata": {},
   "outputs": [],
   "source": [
    "import pandas as pd\n",
    "import seaborn as sns\n",
    "import matplotlib.pyplot as plt\n",
    "import numpy as np"
   ]
  },
  {
   "cell_type": "code",
   "execution_count": 76,
   "metadata": {},
   "outputs": [],
   "source": [
    "shots_df = pd.read_csv('shots_2022.csv')\n",
    "buffalo_df = pd.read_csv('BUF.csv')\n",
    "buffalo_player_stats = pd.read_csv('buf_player_stats.csv')\n",
    "boston_player_stats = pd.read_csv('BOS.csv')\n",
    "boston_df = pd.read_csv('BOS_team_stats.csv')"
   ]
  },
  {
   "cell_type": "markdown",
   "metadata": {},
   "source": [
    "# Identifying The Sabres weakness\n",
    "The sabres are a little time away from being a serious threat, but with such a young team they have time to grow.  To identify weaknesses, we will compare them with a team that is a serious contender for the stanley cup this year. The Boston Bruins."
   ]
  },
  {
   "cell_type": "markdown",
   "metadata": {},
   "source": [
    "I only want to focus on the most current season, the 2022 season. I will "
   ]
  },
  {
   "cell_type": "code",
   "execution_count": 77,
   "metadata": {},
   "outputs": [],
   "source": [
    "buffalo_2022 = buffalo_df[buffalo_df['season'] == 2022]"
   ]
  },
  {
   "cell_type": "code",
   "execution_count": 78,
   "metadata": {},
   "outputs": [],
   "source": [
    "boston_df['gameId'] = boston_df['gameId'].astype(str)\n",
    "boston_2022 = boston_df[boston_df['gameId'].str[:4] == '2022']"
   ]
  },
  {
   "cell_type": "markdown",
   "metadata": {},
   "source": [
    "Both boston and buffalo have their own dfs that focus on the current (2022) season"
   ]
  },
  {
   "cell_type": "markdown",
   "metadata": {},
   "source": [
    "A big offensive metric in the NHL is corsi.  Corsi is a statistic used in ice hockey that measures shot attempt differential, which is the difference in the number of shots taken by a team and the number of shots taken against them during a game or over a period of time. It includes shots on goal, missed shots, and blocked shots. Corsi is often used as an indicator of possession and can be used to evaluate a team's overall performance and the effectiveness of individual players.  In this current section we will be analyzing the corsi between one of the leagues best team, and the sabres."
   ]
  },
  {
   "cell_type": "code",
   "execution_count": 79,
   "metadata": {},
   "outputs": [],
   "source": [
    "boston_corsi = boston_player_stats.loc[:, boston_player_stats.columns.str.contains('corsi|Corsi|goal|name|situation')]"
   ]
  },
  {
   "cell_type": "code",
   "execution_count": 80,
   "metadata": {},
   "outputs": [
    {
     "data": {
      "text/html": [
       "<div>\n",
       "<style scoped>\n",
       "    .dataframe tbody tr th:only-of-type {\n",
       "        vertical-align: middle;\n",
       "    }\n",
       "\n",
       "    .dataframe tbody tr th {\n",
       "        vertical-align: top;\n",
       "    }\n",
       "\n",
       "    .dataframe thead th {\n",
       "        text-align: right;\n",
       "    }\n",
       "</style>\n",
       "<table border=\"1\" class=\"dataframe\">\n",
       "  <thead>\n",
       "    <tr style=\"text-align: right;\">\n",
       "      <th></th>\n",
       "      <th>name</th>\n",
       "      <th>situation</th>\n",
       "      <th>onIce_corsiPercentage</th>\n",
       "      <th>offIce_corsiPercentage</th>\n",
       "      <th>I_F_goals</th>\n",
       "      <th>OnIce_F_goals</th>\n",
       "      <th>OnIce_A_goals</th>\n",
       "      <th>corsiForAfterShifts</th>\n",
       "      <th>corsiAgainstAfterShifts</th>\n",
       "    </tr>\n",
       "  </thead>\n",
       "  <tbody>\n",
       "    <tr>\n",
       "      <th>0</th>\n",
       "      <td>Jakub Zboril</td>\n",
       "      <td>other</td>\n",
       "      <td>0.3333</td>\n",
       "      <td>0.0000</td>\n",
       "      <td>0.0</td>\n",
       "      <td>1.0</td>\n",
       "      <td>0.0</td>\n",
       "      <td>0.0</td>\n",
       "      <td>0.0</td>\n",
       "    </tr>\n",
       "    <tr>\n",
       "      <th>1</th>\n",
       "      <td>Jakub Zboril</td>\n",
       "      <td>all</td>\n",
       "      <td>0.4750</td>\n",
       "      <td>0.4156</td>\n",
       "      <td>0.0</td>\n",
       "      <td>2.0</td>\n",
       "      <td>0.0</td>\n",
       "      <td>0.0</td>\n",
       "      <td>0.0</td>\n",
       "    </tr>\n",
       "    <tr>\n",
       "      <th>2</th>\n",
       "      <td>Jakub Zboril</td>\n",
       "      <td>5on5</td>\n",
       "      <td>0.5294</td>\n",
       "      <td>0.4259</td>\n",
       "      <td>0.0</td>\n",
       "      <td>1.0</td>\n",
       "      <td>0.0</td>\n",
       "      <td>1.0</td>\n",
       "      <td>0.0</td>\n",
       "    </tr>\n",
       "    <tr>\n",
       "      <th>3</th>\n",
       "      <td>Jakub Zboril</td>\n",
       "      <td>4on5</td>\n",
       "      <td>0.0000</td>\n",
       "      <td>0.1818</td>\n",
       "      <td>0.0</td>\n",
       "      <td>0.0</td>\n",
       "      <td>0.0</td>\n",
       "      <td>1.0</td>\n",
       "      <td>0.0</td>\n",
       "    </tr>\n",
       "    <tr>\n",
       "      <th>4</th>\n",
       "      <td>Jakub Zboril</td>\n",
       "      <td>5on4</td>\n",
       "      <td>0.0000</td>\n",
       "      <td>0.0000</td>\n",
       "      <td>0.0</td>\n",
       "      <td>0.0</td>\n",
       "      <td>0.0</td>\n",
       "      <td>0.0</td>\n",
       "      <td>0.0</td>\n",
       "    </tr>\n",
       "    <tr>\n",
       "      <th>...</th>\n",
       "      <td>...</td>\n",
       "      <td>...</td>\n",
       "      <td>...</td>\n",
       "      <td>...</td>\n",
       "      <td>...</td>\n",
       "      <td>...</td>\n",
       "      <td>...</td>\n",
       "      <td>...</td>\n",
       "      <td>...</td>\n",
       "    </tr>\n",
       "    <tr>\n",
       "      <th>6115</th>\n",
       "      <td>Mike Reilly</td>\n",
       "      <td>other</td>\n",
       "      <td>1.0000</td>\n",
       "      <td>0.1818</td>\n",
       "      <td>0.0</td>\n",
       "      <td>0.0</td>\n",
       "      <td>0.0</td>\n",
       "      <td>1.0</td>\n",
       "      <td>0.0</td>\n",
       "    </tr>\n",
       "    <tr>\n",
       "      <th>6116</th>\n",
       "      <td>Mike Reilly</td>\n",
       "      <td>all</td>\n",
       "      <td>0.4167</td>\n",
       "      <td>0.6222</td>\n",
       "      <td>0.0</td>\n",
       "      <td>0.0</td>\n",
       "      <td>1.0</td>\n",
       "      <td>0.0</td>\n",
       "      <td>0.0</td>\n",
       "    </tr>\n",
       "    <tr>\n",
       "      <th>6117</th>\n",
       "      <td>Mike Reilly</td>\n",
       "      <td>5on5</td>\n",
       "      <td>0.3913</td>\n",
       "      <td>0.6774</td>\n",
       "      <td>0.0</td>\n",
       "      <td>0.0</td>\n",
       "      <td>1.0</td>\n",
       "      <td>2.0</td>\n",
       "      <td>1.0</td>\n",
       "    </tr>\n",
       "    <tr>\n",
       "      <th>6118</th>\n",
       "      <td>Mike Reilly</td>\n",
       "      <td>4on5</td>\n",
       "      <td>0.0000</td>\n",
       "      <td>0.2857</td>\n",
       "      <td>0.0</td>\n",
       "      <td>0.0</td>\n",
       "      <td>0.0</td>\n",
       "      <td>0.0</td>\n",
       "      <td>0.0</td>\n",
       "    </tr>\n",
       "    <tr>\n",
       "      <th>6119</th>\n",
       "      <td>Mike Reilly</td>\n",
       "      <td>5on4</td>\n",
       "      <td>0.0000</td>\n",
       "      <td>0.0000</td>\n",
       "      <td>0.0</td>\n",
       "      <td>0.0</td>\n",
       "      <td>0.0</td>\n",
       "      <td>0.0</td>\n",
       "      <td>0.0</td>\n",
       "    </tr>\n",
       "  </tbody>\n",
       "</table>\n",
       "<p>6120 rows × 9 columns</p>\n",
       "</div>"
      ],
      "text/plain": [
       "              name situation  onIce_corsiPercentage  offIce_corsiPercentage  \\\n",
       "0     Jakub Zboril     other                 0.3333                  0.0000   \n",
       "1     Jakub Zboril       all                 0.4750                  0.4156   \n",
       "2     Jakub Zboril      5on5                 0.5294                  0.4259   \n",
       "3     Jakub Zboril      4on5                 0.0000                  0.1818   \n",
       "4     Jakub Zboril      5on4                 0.0000                  0.0000   \n",
       "...            ...       ...                    ...                     ...   \n",
       "6115   Mike Reilly     other                 1.0000                  0.1818   \n",
       "6116   Mike Reilly       all                 0.4167                  0.6222   \n",
       "6117   Mike Reilly      5on5                 0.3913                  0.6774   \n",
       "6118   Mike Reilly      4on5                 0.0000                  0.2857   \n",
       "6119   Mike Reilly      5on4                 0.0000                  0.0000   \n",
       "\n",
       "      I_F_goals  OnIce_F_goals  OnIce_A_goals  corsiForAfterShifts  \\\n",
       "0           0.0            1.0            0.0                  0.0   \n",
       "1           0.0            2.0            0.0                  0.0   \n",
       "2           0.0            1.0            0.0                  1.0   \n",
       "3           0.0            0.0            0.0                  1.0   \n",
       "4           0.0            0.0            0.0                  0.0   \n",
       "...         ...            ...            ...                  ...   \n",
       "6115        0.0            0.0            0.0                  1.0   \n",
       "6116        0.0            0.0            1.0                  0.0   \n",
       "6117        0.0            0.0            1.0                  2.0   \n",
       "6118        0.0            0.0            0.0                  0.0   \n",
       "6119        0.0            0.0            0.0                  0.0   \n",
       "\n",
       "      corsiAgainstAfterShifts  \n",
       "0                         0.0  \n",
       "1                         0.0  \n",
       "2                         0.0  \n",
       "3                         0.0  \n",
       "4                         0.0  \n",
       "...                       ...  \n",
       "6115                      0.0  \n",
       "6116                      0.0  \n",
       "6117                      1.0  \n",
       "6118                      0.0  \n",
       "6119                      0.0  \n",
       "\n",
       "[6120 rows x 9 columns]"
      ]
     },
     "execution_count": 80,
     "metadata": {},
     "output_type": "execute_result"
    }
   ],
   "source": [
    "boston_corsi"
   ]
  },
  {
   "cell_type": "code",
   "execution_count": 81,
   "metadata": {},
   "outputs": [
    {
     "name": "stdout",
     "output_type": "stream",
     "text": [
      "situation\n",
      "4on5     0.120080\n",
      "5on4     0.451975\n",
      "5on5     0.506919\n",
      "all      0.511511\n",
      "other    0.229584\n",
      "Name: onIce_corsiPercentage, dtype: float64\n"
     ]
    }
   ],
   "source": [
    "boston_corsi_situation_mean = boston_corsi.groupby('situation')['onIce_corsiPercentage'].mean()\n",
    "print(boston_corsi_situation_mean)"
   ]
  },
  {
   "cell_type": "code",
   "execution_count": 82,
   "metadata": {},
   "outputs": [],
   "source": [
    "buffalo_corsi = buffalo_player_stats.loc[:, buffalo_player_stats.columns.str.contains('corsi|Corsi|goal|name|situation')]"
   ]
  },
  {
   "cell_type": "code",
   "execution_count": 83,
   "metadata": {},
   "outputs": [
    {
     "name": "stdout",
     "output_type": "stream",
     "text": [
      "situation\n",
      "4on5     0.079646\n",
      "5on4     0.436941\n",
      "5on5     0.513409\n",
      "all      0.512356\n",
      "other    0.211848\n",
      "Name: onIce_corsiPercentage, dtype: float64\n"
     ]
    }
   ],
   "source": [
    "buffalo_corsi_situation_mean = buffalo_corsi.groupby('situation')['onIce_corsiPercentage'].mean()\n",
    "print(buffalo_corsi_situation_mean)"
   ]
  },
  {
   "cell_type": "markdown",
   "metadata": {},
   "source": [
    "The above print outs are the average corsi for each team, in each situation.\n",
    "The Bruins are undoubtedly better in while killing a penalty (4on5).\n",
    "Bruins are better again while on the powerplay (5on4)\n",
    "5 on 5 the sabres have a good full strength (5on5) so their overall average is better, however this shows that special teams needs some work. When the sabres are up a player, theyre allowing too many shots, wasting the man advantage. A powerplay should be all out attack. "
   ]
  },
  {
   "cell_type": "code",
   "execution_count": 86,
   "metadata": {},
   "outputs": [
    {
     "data": {
      "image/png": "[encoded data removed]",
      "text/plain": [
       "<Figure size 864x720 with 1 Axes>"
      ]
     },
     "metadata": {},
     "output_type": "display_data"
    }
   ],
   "source": [
    "# Get mean corsi percentages by situation for Boston and Buffalo\n",
    "boston_corsi_situation_mean = boston_corsi.groupby('situation')['onIce_corsiPercentage'].mean()\n",
    "buffalo_corsi_situation_mean = buffalo_corsi.groupby('situation')['onIce_corsiPercentage'].mean()\n",
    "\n",
    "# Set up the bar graph\n",
    "fig, ax = plt.subplots(figsize=(12, 10))\n",
    "bar_width = 0.35\n",
    "opacity = 0.8\n",
    "\n",
    "# Set x-axis labels and positions\n",
    "labels = boston_corsi_situation_mean.index\n",
    "x_pos = np.arange(len(labels))\n",
    "\n",
    "# Create the bar graph\n",
    "rects1 = ax.bar(x_pos, boston_corsi_situation_mean, bar_width,\n",
    "                alpha=opacity, color='b',\n",
    "                label='Boston')\n",
    "rects2 = ax.bar(x_pos + bar_width, buffalo_corsi_situation_mean, bar_width,\n",
    "                alpha=opacity, color='r',\n",
    "                label='Buffalo')\n",
    "\n",
    "# Add labels, title, and legend to the graph\n",
    "ax.set_xlabel('Situation')\n",
    "ax.set_ylabel('Mean onIce_corsiPercentage')\n",
    "ax.set_title('Comparison of Mean Corsi Percentages by Situation')\n",
    "ax.set_xticks(x_pos + bar_width / 2)\n",
    "ax.set_xticklabels(labels)\n",
    "ax.legend()\n",
    "\n",
    "# Show the graph\n",
    "plt.show()"
   ]
  },
  {
   "cell_type": "code",
   "execution_count": null,
   "metadata": {},
   "outputs": [],
   "source": []
  }
 ],
 "metadata": {
  "kernelspec": {
   "display_name": "Python (learn-env)",
   "language": "python",
   "name": "learn-env"
  },
  "language_info": {
   "codemirror_mode": {
    "name": "ipython",
    "version": 3
   },
   "file_extension": ".py",
   "mimetype": "text/x-python",
   "name": "python",
   "nbconvert_exporter": "python",
   "pygments_lexer": "ipython3",
   "version": "3.8.5"
  }
 },
 "nbformat": 4,
 "nbformat_minor": 4
}
