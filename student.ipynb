{
 "cells": [
  {
   "cell_type": "markdown",
   "metadata": {},
   "source": [
    "## Phase 3 Project\n",
    "Michal Ostrowski"
   ]
  },
  {
   "cell_type": "code",
   "execution_count": 1,
   "metadata": {},
   "outputs": [],
   "source": [
    "#Importing Libraries\n",
    "import pandas as pd\n",
    "import numpy as np\n",
    "import matplotlib.pyplot as plt\n",
    "import seaborn as sns\n",
    "import statsmodels.formula.api as smf"
   ]
  },
  {
   "cell_type": "markdown",
   "metadata": {},
   "source": [
    "The phone comapny XXXXXX has come to us and asked for recommendations that will lower the amount of people leaving their company (churn)  "
   ]
  },
  {
   "cell_type": "markdown",
   "metadata": {},
   "source": [
    "# Load the data"
   ]
  },
  {
   "cell_type": "code",
   "execution_count": 2,
   "metadata": {},
   "outputs": [],
   "source": [
    "# Load the dataset\n",
    "Telecomdf = pd.read_csv(\"bigml_59c28831336c6604c800002a.csv\")"
   ]
  },
  {
   "cell_type": "code",
   "execution_count": 28,
   "metadata": {},
   "outputs": [
    {
     "data": {
      "text/html": [
       "<div>\n",
       "<style scoped>\n",
       "    .dataframe tbody tr th:only-of-type {\n",
       "        vertical-align: middle;\n",
       "    }\n",
       "\n",
       "    .dataframe tbody tr th {\n",
       "        vertical-align: top;\n",
       "    }\n",
       "\n",
       "    .dataframe thead th {\n",
       "        text-align: right;\n",
       "    }\n",
       "</style>\n",
       "<table border=\"1\" class=\"dataframe\">\n",
       "  <thead>\n",
       "    <tr style=\"text-align: right;\">\n",
       "      <th></th>\n",
       "      <th>account length</th>\n",
       "      <th>area code</th>\n",
       "      <th>phone number</th>\n",
       "      <th>international_plan</th>\n",
       "      <th>voice_mail_plan</th>\n",
       "      <th>number vmail messages</th>\n",
       "      <th>total day minutes</th>\n",
       "      <th>total day calls</th>\n",
       "      <th>total day charge</th>\n",
       "      <th>total eve minutes</th>\n",
       "      <th>...</th>\n",
       "      <th>total night minutes</th>\n",
       "      <th>total night calls</th>\n",
       "      <th>total night charge</th>\n",
       "      <th>total intl minutes</th>\n",
       "      <th>total intl calls</th>\n",
       "      <th>total intl charge</th>\n",
       "      <th>customer service calls</th>\n",
       "      <th>churn</th>\n",
       "      <th>total_charge</th>\n",
       "      <th>churn_rate</th>\n",
       "    </tr>\n",
       "  </thead>\n",
       "  <tbody>\n",
       "    <tr>\n",
       "      <th>0</th>\n",
       "      <td>128</td>\n",
       "      <td>415</td>\n",
       "      <td>382-4657</td>\n",
       "      <td>0</td>\n",
       "      <td>1</td>\n",
       "      <td>25</td>\n",
       "      <td>265.1</td>\n",
       "      <td>110</td>\n",
       "      <td>45.07</td>\n",
       "      <td>197.4</td>\n",
       "      <td>...</td>\n",
       "      <td>244.7</td>\n",
       "      <td>91</td>\n",
       "      <td>11.01</td>\n",
       "      <td>10.0</td>\n",
       "      <td>3</td>\n",
       "      <td>2.70</td>\n",
       "      <td>1</td>\n",
       "      <td>No</td>\n",
       "      <td>75.56</td>\n",
       "      <td>NaN</td>\n",
       "    </tr>\n",
       "    <tr>\n",
       "      <th>1</th>\n",
       "      <td>107</td>\n",
       "      <td>415</td>\n",
       "      <td>371-7191</td>\n",
       "      <td>0</td>\n",
       "      <td>1</td>\n",
       "      <td>26</td>\n",
       "      <td>161.6</td>\n",
       "      <td>123</td>\n",
       "      <td>27.47</td>\n",
       "      <td>195.5</td>\n",
       "      <td>...</td>\n",
       "      <td>254.4</td>\n",
       "      <td>103</td>\n",
       "      <td>11.45</td>\n",
       "      <td>13.7</td>\n",
       "      <td>3</td>\n",
       "      <td>3.70</td>\n",
       "      <td>1</td>\n",
       "      <td>No</td>\n",
       "      <td>59.24</td>\n",
       "      <td>0.125</td>\n",
       "    </tr>\n",
       "    <tr>\n",
       "      <th>2</th>\n",
       "      <td>137</td>\n",
       "      <td>415</td>\n",
       "      <td>358-1921</td>\n",
       "      <td>0</td>\n",
       "      <td>0</td>\n",
       "      <td>0</td>\n",
       "      <td>243.4</td>\n",
       "      <td>114</td>\n",
       "      <td>41.38</td>\n",
       "      <td>121.2</td>\n",
       "      <td>...</td>\n",
       "      <td>162.6</td>\n",
       "      <td>104</td>\n",
       "      <td>7.32</td>\n",
       "      <td>12.2</td>\n",
       "      <td>5</td>\n",
       "      <td>3.29</td>\n",
       "      <td>0</td>\n",
       "      <td>No</td>\n",
       "      <td>62.29</td>\n",
       "      <td>1.000</td>\n",
       "    </tr>\n",
       "    <tr>\n",
       "      <th>3</th>\n",
       "      <td>84</td>\n",
       "      <td>408</td>\n",
       "      <td>375-9999</td>\n",
       "      <td>1</td>\n",
       "      <td>0</td>\n",
       "      <td>0</td>\n",
       "      <td>299.4</td>\n",
       "      <td>71</td>\n",
       "      <td>50.90</td>\n",
       "      <td>61.9</td>\n",
       "      <td>...</td>\n",
       "      <td>196.9</td>\n",
       "      <td>89</td>\n",
       "      <td>8.86</td>\n",
       "      <td>6.6</td>\n",
       "      <td>7</td>\n",
       "      <td>1.78</td>\n",
       "      <td>2</td>\n",
       "      <td>No</td>\n",
       "      <td>66.80</td>\n",
       "      <td>0.000</td>\n",
       "    </tr>\n",
       "    <tr>\n",
       "      <th>4</th>\n",
       "      <td>75</td>\n",
       "      <td>415</td>\n",
       "      <td>330-6626</td>\n",
       "      <td>1</td>\n",
       "      <td>0</td>\n",
       "      <td>0</td>\n",
       "      <td>166.7</td>\n",
       "      <td>113</td>\n",
       "      <td>28.34</td>\n",
       "      <td>148.3</td>\n",
       "      <td>...</td>\n",
       "      <td>186.9</td>\n",
       "      <td>121</td>\n",
       "      <td>8.41</td>\n",
       "      <td>10.1</td>\n",
       "      <td>3</td>\n",
       "      <td>2.73</td>\n",
       "      <td>3</td>\n",
       "      <td>No</td>\n",
       "      <td>52.09</td>\n",
       "      <td>0.000</td>\n",
       "    </tr>\n",
       "    <tr>\n",
       "      <th>...</th>\n",
       "      <td>...</td>\n",
       "      <td>...</td>\n",
       "      <td>...</td>\n",
       "      <td>...</td>\n",
       "      <td>...</td>\n",
       "      <td>...</td>\n",
       "      <td>...</td>\n",
       "      <td>...</td>\n",
       "      <td>...</td>\n",
       "      <td>...</td>\n",
       "      <td>...</td>\n",
       "      <td>...</td>\n",
       "      <td>...</td>\n",
       "      <td>...</td>\n",
       "      <td>...</td>\n",
       "      <td>...</td>\n",
       "      <td>...</td>\n",
       "      <td>...</td>\n",
       "      <td>...</td>\n",
       "      <td>...</td>\n",
       "      <td>...</td>\n",
       "    </tr>\n",
       "    <tr>\n",
       "      <th>3328</th>\n",
       "      <td>192</td>\n",
       "      <td>415</td>\n",
       "      <td>414-4276</td>\n",
       "      <td>0</td>\n",
       "      <td>1</td>\n",
       "      <td>36</td>\n",
       "      <td>156.2</td>\n",
       "      <td>77</td>\n",
       "      <td>26.55</td>\n",
       "      <td>215.5</td>\n",
       "      <td>...</td>\n",
       "      <td>279.1</td>\n",
       "      <td>83</td>\n",
       "      <td>12.56</td>\n",
       "      <td>9.9</td>\n",
       "      <td>6</td>\n",
       "      <td>2.67</td>\n",
       "      <td>2</td>\n",
       "      <td>No</td>\n",
       "      <td>60.10</td>\n",
       "      <td>NaN</td>\n",
       "    </tr>\n",
       "    <tr>\n",
       "      <th>3329</th>\n",
       "      <td>68</td>\n",
       "      <td>415</td>\n",
       "      <td>370-3271</td>\n",
       "      <td>0</td>\n",
       "      <td>0</td>\n",
       "      <td>0</td>\n",
       "      <td>231.1</td>\n",
       "      <td>57</td>\n",
       "      <td>39.29</td>\n",
       "      <td>153.4</td>\n",
       "      <td>...</td>\n",
       "      <td>191.3</td>\n",
       "      <td>123</td>\n",
       "      <td>8.61</td>\n",
       "      <td>9.6</td>\n",
       "      <td>4</td>\n",
       "      <td>2.59</td>\n",
       "      <td>3</td>\n",
       "      <td>No</td>\n",
       "      <td>63.53</td>\n",
       "      <td>NaN</td>\n",
       "    </tr>\n",
       "    <tr>\n",
       "      <th>3330</th>\n",
       "      <td>28</td>\n",
       "      <td>510</td>\n",
       "      <td>328-8230</td>\n",
       "      <td>0</td>\n",
       "      <td>0</td>\n",
       "      <td>0</td>\n",
       "      <td>180.8</td>\n",
       "      <td>109</td>\n",
       "      <td>30.74</td>\n",
       "      <td>288.8</td>\n",
       "      <td>...</td>\n",
       "      <td>191.9</td>\n",
       "      <td>91</td>\n",
       "      <td>8.64</td>\n",
       "      <td>14.1</td>\n",
       "      <td>6</td>\n",
       "      <td>3.81</td>\n",
       "      <td>2</td>\n",
       "      <td>No</td>\n",
       "      <td>67.74</td>\n",
       "      <td>NaN</td>\n",
       "    </tr>\n",
       "    <tr>\n",
       "      <th>3331</th>\n",
       "      <td>184</td>\n",
       "      <td>510</td>\n",
       "      <td>364-6381</td>\n",
       "      <td>1</td>\n",
       "      <td>0</td>\n",
       "      <td>0</td>\n",
       "      <td>213.8</td>\n",
       "      <td>105</td>\n",
       "      <td>36.35</td>\n",
       "      <td>159.6</td>\n",
       "      <td>...</td>\n",
       "      <td>139.2</td>\n",
       "      <td>137</td>\n",
       "      <td>6.26</td>\n",
       "      <td>5.0</td>\n",
       "      <td>10</td>\n",
       "      <td>1.35</td>\n",
       "      <td>2</td>\n",
       "      <td>No</td>\n",
       "      <td>57.53</td>\n",
       "      <td>NaN</td>\n",
       "    </tr>\n",
       "    <tr>\n",
       "      <th>3332</th>\n",
       "      <td>74</td>\n",
       "      <td>415</td>\n",
       "      <td>400-4344</td>\n",
       "      <td>0</td>\n",
       "      <td>1</td>\n",
       "      <td>25</td>\n",
       "      <td>234.4</td>\n",
       "      <td>113</td>\n",
       "      <td>39.85</td>\n",
       "      <td>265.9</td>\n",
       "      <td>...</td>\n",
       "      <td>241.4</td>\n",
       "      <td>77</td>\n",
       "      <td>10.86</td>\n",
       "      <td>13.7</td>\n",
       "      <td>4</td>\n",
       "      <td>3.70</td>\n",
       "      <td>0</td>\n",
       "      <td>No</td>\n",
       "      <td>77.01</td>\n",
       "      <td>NaN</td>\n",
       "    </tr>\n",
       "  </tbody>\n",
       "</table>\n",
       "<p>3333 rows × 22 columns</p>\n",
       "</div>"
      ],
      "text/plain": [
       "      account length  area code phone number  international_plan  \\\n",
       "0                128        415     382-4657                   0   \n",
       "1                107        415     371-7191                   0   \n",
       "2                137        415     358-1921                   0   \n",
       "3                 84        408     375-9999                   1   \n",
       "4                 75        415     330-6626                   1   \n",
       "...              ...        ...          ...                 ...   \n",
       "3328             192        415     414-4276                   0   \n",
       "3329              68        415     370-3271                   0   \n",
       "3330              28        510     328-8230                   0   \n",
       "3331             184        510     364-6381                   1   \n",
       "3332              74        415     400-4344                   0   \n",
       "\n",
       "      voice_mail_plan  number vmail messages  total day minutes  \\\n",
       "0                   1                     25              265.1   \n",
       "1                   1                     26              161.6   \n",
       "2                   0                      0              243.4   \n",
       "3                   0                      0              299.4   \n",
       "4                   0                      0              166.7   \n",
       "...               ...                    ...                ...   \n",
       "3328                1                     36              156.2   \n",
       "3329                0                      0              231.1   \n",
       "3330                0                      0              180.8   \n",
       "3331                0                      0              213.8   \n",
       "3332                1                     25              234.4   \n",
       "\n",
       "      total day calls  total day charge  total eve minutes  ...  \\\n",
       "0                 110             45.07              197.4  ...   \n",
       "1                 123             27.47              195.5  ...   \n",
       "2                 114             41.38              121.2  ...   \n",
       "3                  71             50.90               61.9  ...   \n",
       "4                 113             28.34              148.3  ...   \n",
       "...               ...               ...                ...  ...   \n",
       "3328               77             26.55              215.5  ...   \n",
       "3329               57             39.29              153.4  ...   \n",
       "3330              109             30.74              288.8  ...   \n",
       "3331              105             36.35              159.6  ...   \n",
       "3332              113             39.85              265.9  ...   \n",
       "\n",
       "      total night minutes  total night calls  total night charge  \\\n",
       "0                   244.7                 91               11.01   \n",
       "1                   254.4                103               11.45   \n",
       "2                   162.6                104                7.32   \n",
       "3                   196.9                 89                8.86   \n",
       "4                   186.9                121                8.41   \n",
       "...                   ...                ...                 ...   \n",
       "3328                279.1                 83               12.56   \n",
       "3329                191.3                123                8.61   \n",
       "3330                191.9                 91                8.64   \n",
       "3331                139.2                137                6.26   \n",
       "3332                241.4                 77               10.86   \n",
       "\n",
       "      total intl minutes  total intl calls  total intl charge  \\\n",
       "0                   10.0                 3               2.70   \n",
       "1                   13.7                 3               3.70   \n",
       "2                   12.2                 5               3.29   \n",
       "3                    6.6                 7               1.78   \n",
       "4                   10.1                 3               2.73   \n",
       "...                  ...               ...                ...   \n",
       "3328                 9.9                 6               2.67   \n",
       "3329                 9.6                 4               2.59   \n",
       "3330                14.1                 6               3.81   \n",
       "3331                 5.0                10               1.35   \n",
       "3332                13.7                 4               3.70   \n",
       "\n",
       "      customer service calls  churn  total_charge churn_rate  \n",
       "0                          1     No         75.56        NaN  \n",
       "1                          1     No         59.24      0.125  \n",
       "2                          0     No         62.29      1.000  \n",
       "3                          2     No         66.80      0.000  \n",
       "4                          3     No         52.09      0.000  \n",
       "...                      ...    ...           ...        ...  \n",
       "3328                       2     No         60.10        NaN  \n",
       "3329                       3     No         63.53        NaN  \n",
       "3330                       2     No         67.74        NaN  \n",
       "3331                       2     No         57.53        NaN  \n",
       "3332                       0     No         77.01        NaN  \n",
       "\n",
       "[3333 rows x 22 columns]"
      ]
     },
     "execution_count": 28,
     "metadata": {},
     "output_type": "execute_result"
    }
   ],
   "source": [
    "Telecomdf"
   ]
  },
  {
   "cell_type": "markdown",
   "metadata": {},
   "source": [
    "# Data cleaning"
   ]
  },
  {
   "cell_type": "code",
   "execution_count": 5,
   "metadata": {},
   "outputs": [
    {
     "name": "stdout",
     "output_type": "stream",
     "text": [
      "state                     0\n",
      "account length            0\n",
      "area code                 0\n",
      "phone number              0\n",
      "international plan        0\n",
      "voice mail plan           0\n",
      "number vmail messages     0\n",
      "total day minutes         0\n",
      "total day calls           0\n",
      "total day charge          0\n",
      "total eve minutes         0\n",
      "total eve calls           0\n",
      "total eve charge          0\n",
      "total night minutes       0\n",
      "total night calls         0\n",
      "total night charge        0\n",
      "total intl minutes        0\n",
      "total intl calls          0\n",
      "total intl charge         0\n",
      "customer service calls    0\n",
      "churn                     0\n",
      "dtype: int64\n"
     ]
    }
   ],
   "source": [
    "#Looking for null values\n",
    "print(Telecomdf.isnull().sum())"
   ]
  },
  {
   "cell_type": "markdown",
   "metadata": {},
   "source": [
    "No values appear to be null in the above cell"
   ]
  },
  {
   "cell_type": "code",
   "execution_count": 6,
   "metadata": {},
   "outputs": [],
   "source": [
    "#Editing column names\n",
    "Telecomdf = Telecomdf.rename(columns={'international plan': 'international_plan', 'voice mail plan': 'voice_mail_plan'})"
   ]
  },
  {
   "cell_type": "code",
   "execution_count": 7,
   "metadata": {
    "scrolled": true
   },
   "outputs": [
    {
     "name": "stdout",
     "output_type": "stream",
     "text": [
      "0\n"
     ]
    }
   ],
   "source": [
    "#Looking for duplicates\n",
    "print(Telecomdf.duplicated().sum())"
   ]
  },
  {
   "cell_type": "markdown",
   "metadata": {},
   "source": [
    "No duplicates are present"
   ]
  },
  {
   "cell_type": "code",
   "execution_count": 8,
   "metadata": {},
   "outputs": [],
   "source": [
    "#making alphabetical values numerical\n",
    "Telecomdf['international_plan'] = np.where(Telecomdf['international_plan'] == 'yes', 1, 0)\n",
    "Telecomdf['voice_mail_plan'] = np.where(Telecomdf['voice_mail_plan'] == 'yes', 1, 0)"
   ]
  },
  {
   "cell_type": "code",
   "execution_count": 9,
   "metadata": {},
   "outputs": [],
   "source": [
    "Telecomdf['churn'] = Telecomdf['churn'].astype(str).replace({'True': 1, 'False': 0})"
   ]
  },
  {
   "cell_type": "code",
   "execution_count": 10,
   "metadata": {},
   "outputs": [],
   "source": [
    "#creating a new column with total charges\n",
    "Telecomdf = Telecomdf.assign(total_charge=lambda x: x['total day charge'] + x['total eve charge'] + x['total night charge'] + x['total intl charge'])"
   ]
  },
  {
   "cell_type": "code",
   "execution_count": 11,
   "metadata": {},
   "outputs": [],
   "source": [
    "#removing state, they dont seem right as there are many states but only 3 area codes\n",
    "Telecomdf.drop(columns=['state'], inplace=True)"
   ]
  },
  {
   "cell_type": "markdown",
   "metadata": {},
   "source": [
    "## Starting Data Analysis"
   ]
  },
  {
   "cell_type": "code",
   "execution_count": 12,
   "metadata": {
    "scrolled": false
   },
   "outputs": [
    {
     "name": "stdout",
     "output_type": "stream",
     "text": [
      "       account length    area code  international_plan  voice_mail_plan  \\\n",
      "count     3333.000000  3333.000000         3333.000000      3333.000000   \n",
      "mean       101.064806   437.182418            0.096910         0.276628   \n",
      "std         39.822106    42.371290            0.295879         0.447398   \n",
      "min          1.000000   408.000000            0.000000         0.000000   \n",
      "25%         74.000000   408.000000            0.000000         0.000000   \n",
      "50%        101.000000   415.000000            0.000000         0.000000   \n",
      "75%        127.000000   510.000000            0.000000         1.000000   \n",
      "max        243.000000   510.000000            1.000000         1.000000   \n",
      "\n",
      "       number vmail messages  total day minutes  total day calls  \\\n",
      "count            3333.000000        3333.000000      3333.000000   \n",
      "mean                8.099010         179.775098       100.435644   \n",
      "std                13.688365          54.467389        20.069084   \n",
      "min                 0.000000           0.000000         0.000000   \n",
      "25%                 0.000000         143.700000        87.000000   \n",
      "50%                 0.000000         179.400000       101.000000   \n",
      "75%                20.000000         216.400000       114.000000   \n",
      "max                51.000000         350.800000       165.000000   \n",
      "\n",
      "       total day charge  total eve minutes  total eve calls  total eve charge  \\\n",
      "count       3333.000000        3333.000000      3333.000000       3333.000000   \n",
      "mean          30.562307         200.980348       100.114311         17.083540   \n",
      "std            9.259435          50.713844        19.922625          4.310668   \n",
      "min            0.000000           0.000000         0.000000          0.000000   \n",
      "25%           24.430000         166.600000        87.000000         14.160000   \n",
      "50%           30.500000         201.400000       100.000000         17.120000   \n",
      "75%           36.790000         235.300000       114.000000         20.000000   \n",
      "max           59.640000         363.700000       170.000000         30.910000   \n",
      "\n",
      "       total night minutes  total night calls  total night charge  \\\n",
      "count          3333.000000        3333.000000         3333.000000   \n",
      "mean            200.872037         100.107711            9.039325   \n",
      "std              50.573847          19.568609            2.275873   \n",
      "min              23.200000          33.000000            1.040000   \n",
      "25%             167.000000          87.000000            7.520000   \n",
      "50%             201.200000         100.000000            9.050000   \n",
      "75%             235.300000         113.000000           10.590000   \n",
      "max             395.000000         175.000000           17.770000   \n",
      "\n",
      "       total intl minutes  total intl calls  total intl charge  \\\n",
      "count         3333.000000       3333.000000        3333.000000   \n",
      "mean            10.237294          4.479448           2.764581   \n",
      "std              2.791840          2.461214           0.753773   \n",
      "min              0.000000          0.000000           0.000000   \n",
      "25%              8.500000          3.000000           2.300000   \n",
      "50%             10.300000          4.000000           2.780000   \n",
      "75%             12.100000          6.000000           3.270000   \n",
      "max             20.000000         20.000000           5.400000   \n",
      "\n",
      "       customer service calls        churn  total_charge  \n",
      "count             3333.000000  3333.000000   3333.000000  \n",
      "mean                 1.562856     0.144914     59.449754  \n",
      "std                  1.315491     0.352067     10.502261  \n",
      "min                  0.000000     0.000000     22.930000  \n",
      "25%                  1.000000     0.000000     52.380000  \n",
      "50%                  1.000000     0.000000     59.470000  \n",
      "75%                  2.000000     0.000000     66.480000  \n",
      "max                  9.000000     1.000000     96.150000  \n"
     ]
    }
   ],
   "source": [
    "print(Telecomdf.describe())"
   ]
  },
  {
   "cell_type": "code",
   "execution_count": 13,
   "metadata": {
    "scrolled": false
   },
   "outputs": [
    {
     "name": "stdout",
     "output_type": "stream",
     "text": [
      "                            OLS Regression Results                            \n",
      "==============================================================================\n",
      "Dep. Variable:                  churn   R-squared:                       0.054\n",
      "Model:                            OLS   Adj. R-squared:                  0.053\n",
      "Method:                 Least Squares   F-statistic:                     188.7\n",
      "Date:                Thu, 12 Jan 2023   Prob (F-statistic):           8.22e-42\n",
      "Time:                        19:51:23   Log-Likelihood:                -1157.6\n",
      "No. Observations:                3333   AIC:                             2319.\n",
      "Df Residuals:                    3331   BIC:                             2331.\n",
      "Df Model:                           1                                         \n",
      "Covariance Type:            nonrobust                                         \n",
      "================================================================================\n",
      "                   coef    std err          t      P>|t|      [0.025      0.975]\n",
      "--------------------------------------------------------------------------------\n",
      "Intercept       -0.3165      0.034     -9.280      0.000      -0.383      -0.250\n",
      "total_charge     0.0078      0.001     13.737      0.000       0.007       0.009\n",
      "==============================================================================\n",
      "Omnibus:                     1105.312   Durbin-Watson:                   1.976\n",
      "Prob(Omnibus):                  0.000   Jarque-Bera (JB):             2635.818\n",
      "Skew:                           1.916   Prob(JB):                         0.00\n",
      "Kurtosis:                       5.074   Cond. No.                         347.\n",
      "==============================================================================\n",
      "\n",
      "Notes:\n",
      "[1] Standard Errors assume that the covariance matrix of the errors is correctly specified.\n"
     ]
    }
   ],
   "source": [
    "# Define the regression formula\n",
    "formula = 'churn ~ total_charge'\n",
    "\n",
    "# Fit the regression model\n",
    "model = smf.ols(formula, data=Telecomdf).fit()\n",
    "\n",
    "# Print the model summary\n",
    "print(model.summary())"
   ]
  },
  {
   "cell_type": "code",
   "execution_count": 14,
   "metadata": {},
   "outputs": [
    {
     "data": {
      "text/plain": [
       "<seaborn.axisgrid.FacetGrid at 0x1e3b90ffd60>"
      ]
     },
     "execution_count": 14,
     "metadata": {},
     "output_type": "execute_result"
    },
    {
     "data": {
      "image/png": "[encoded data removed]",
      "text/plain": [
       "<Figure size 360x360 with 1 Axes>"
      ]
     },
     "metadata": {
      "needs_background": "light"
     },
     "output_type": "display_data"
    }
   ],
   "source": [
    "sns.lmplot(x='total_charge', y='churn', data=Telecomdf)"
   ]
  },
  {
   "cell_type": "markdown",
   "metadata": {},
   "source": [
    "As the total charge goes up, the likliehood of churn increases by a coefficient of .078\n",
    "With an r-squared value of 0.054, this is not a very good model to explain a higher churn rate.\n",
    "I recommend to create one single subscription fee. It may not directly cause people to stay with our company, but it will be easier to convince people to stay with a plan that includes everything instead of selling single phone calls."
   ]
  },
  {
   "cell_type": "markdown",
   "metadata": {},
   "source": [
    "# How much can we charge per month?"
   ]
  },
  {
   "cell_type": "code",
   "execution_count": 15,
   "metadata": {},
   "outputs": [],
   "source": [
    "# Fit a multiple linear regression model\n",
    "model = smf.ols(formula='total_charge ~ churn', data=Telecomdf).fit()\n",
    "\n",
    "# Make predictions for a range of churn values\n",
    "churn_range = pd.DataFrame({'churn': np.linspace(Telecomdf['churn'].min(), Telecomdf['churn'].max(), 100)})\n",
    "predictions = model.predict(churn_range)\n",
    "\n",
    "# Find the churn value where the predicted total_charge is minimized\n",
    "min_index = predictions.idxmin()\n",
    "min_churn = churn_range.iloc[min_index]['churn']"
   ]
  },
  {
   "cell_type": "code",
   "execution_count": 16,
   "metadata": {},
   "outputs": [
    {
     "data": {
      "image/png": "[encoded data removed]",
      "text/plain": [
       "<Figure size 360x360 with 1 Axes>"
      ]
     },
     "metadata": {
      "needs_background": "light"
     },
     "output_type": "display_data"
    }
   ],
   "source": [
    "# Create a scatter plot with a multiple linear regression line\n",
    "sns.lmplot(x='churn', y='total_charge', data=Telecomdf)\n",
    "\n",
    "# Find the churn value where the predicted total_charge is minimized\n",
    "min_index = predictions.idxmin()\n",
    "min_churn = churn_range.iloc[min_index]['churn']\n",
    "\n",
    "# Annotate the plot with the minimum total_charge and churn values\n",
    "plt.annotate(f'minimum total_charge: {predictions[min_index]:.2f}', xy=(min_churn, predictions[min_index]), xytext=(min_churn + 0.1, predictions[min_index] + 10), arrowprops={'facecolor': 'red'})\n",
    "\n",
    "# Label the axes\n",
    "plt.xlabel('churn')\n",
    "plt.ylabel('total_charge')\n",
    "\n",
    "# Show the plot\n",
    "plt.show()"
   ]
  },
  {
   "cell_type": "markdown",
   "metadata": {},
   "source": [
    "At this point I see that the point in dollars where people drew the line of when they would cancel their service.  That price was 58.45 dollars.\n",
    "Seeing this My first recommendation is going to be to create a monthly plan and charge $58.00.\n"
   ]
  },
  {
   "cell_type": "markdown",
   "metadata": {},
   "source": [
    "# Comparing churn to account length (time spent with our service)"
   ]
  },
  {
   "cell_type": "code",
   "execution_count": 17,
   "metadata": {},
   "outputs": [
    {
     "name": "stdout",
     "output_type": "stream",
     "text": [
      "                            OLS Regression Results                            \n",
      "==============================================================================\n",
      "Dep. Variable:                  churn   R-squared:                       0.000\n",
      "Model:                            OLS   Adj. R-squared:                 -0.000\n",
      "Method:                 Least Squares   F-statistic:                    0.9116\n",
      "Date:                Thu, 12 Jan 2023   Prob (F-statistic):              0.340\n",
      "Time:                        19:51:37   Log-Likelihood:                -1248.9\n",
      "No. Observations:                3333   AIC:                             2502.\n",
      "Df Residuals:                    3331   BIC:                             2514.\n",
      "Df Model:                           1                                         \n",
      "Covariance Type:            nonrobust                                         \n",
      "==================================================================================\n",
      "                     coef    std err          t      P>|t|      [0.025      0.975]\n",
      "----------------------------------------------------------------------------------\n",
      "Intercept          0.1301      0.017      7.822      0.000       0.098       0.163\n",
      "account_length     0.0001      0.000      0.955      0.340      -0.000       0.000\n",
      "==============================================================================\n",
      "Omnibus:                     1162.026   Durbin-Watson:                   1.968\n",
      "Prob(Omnibus):                  0.000   Jarque-Bera (JB):             2853.521\n",
      "Skew:                           2.017   Prob(JB):                         0.00\n",
      "Kurtosis:                       5.069   Cond. No.                         296.\n",
      "==============================================================================\n",
      "\n",
      "Notes:\n",
      "[1] Standard Errors assume that the covariance matrix of the errors is correctly specified.\n"
     ]
    }
   ],
   "source": [
    "account_length = Telecomdf['account length']\n",
    "\n",
    "# create a formula for the regression\n",
    "formula = 'churn ~ account_length'\n",
    "\n",
    "# fit the regression to the data\n",
    "results = smf.ols(formula, data=Telecomdf).fit()\n",
    "\n",
    "# print a summary of the results\n",
    "print(results.summary())"
   ]
  },
  {
   "cell_type": "markdown",
   "metadata": {},
   "source": [
    "With an r_squared value of 0, account length has nothing to do with churn rate. However with the previous suggestion of adding some sort of loyalty program, That would add another factor for people who are thinking of switching up their phone provider."
   ]
  },
  {
   "cell_type": "code",
   "execution_count": 18,
   "metadata": {},
   "outputs": [],
   "source": [
    "#create a column for the churn rate by dividing the number of churned accounts by the total number of accounts at each point in time\n",
    "Telecomdf['churn_rate'] = Telecomdf.groupby('account length')['churn'].apply(lambda x: x.sum() / len(x))"
   ]
  },
  {
   "cell_type": "code",
   "execution_count": 19,
   "metadata": {},
   "outputs": [
    {
     "data": {
      "text/plain": [
       "Text(0.5, 1.0, 'The impact of Account Length on Churn Rate')"
      ]
     },
     "execution_count": 19,
     "metadata": {},
     "output_type": "execute_result"
    },
    {
     "data": {
      "image/png": "[encoded data removed]",
      "text/plain": [
       "<Figure size 432x288 with 1 Axes>"
      ]
     },
     "metadata": {
      "needs_background": "light"
     },
     "output_type": "display_data"
    }
   ],
   "source": [
    "# plot the churn rate on the y-axis and the account length on the x-axis\n",
    "sns.lineplot(x='account length', y='churn_rate', data=Telecomdf)\n",
    "plt.title('The impact of Account Length on Churn Rate')"
   ]
  },
  {
   "cell_type": "code",
   "execution_count": 20,
   "metadata": {},
   "outputs": [
    {
     "data": {
      "image/png": "[encoded data removed]",
      "text/plain": [
       "<Figure size 432x288 with 1 Axes>"
      ]
     },
     "metadata": {
      "needs_background": "light"
     },
     "output_type": "display_data"
    }
   ],
   "source": [
    "sns.regplot(x='account length', y='churn_rate', data=Telecomdf)\n",
    "plt.title('The impact of Account Length on Churn Rate')\n",
    "plt.xlabel('Account Length (in months)')\n",
    "plt.ylabel('Churn Rate (%)')\n",
    "plt.show()"
   ]
  },
  {
   "cell_type": "markdown",
   "metadata": {},
   "source": [
    "At this point I am seeing that the churn rate gets much higher between 125 and 175 months.  My second suggestion is to offer a loyalty program where your cost goes down close to this point."
   ]
  },
  {
   "cell_type": "markdown",
   "metadata": {},
   "source": [
    "# Service calls vs Churn Rate"
   ]
  },
  {
   "cell_type": "code",
   "execution_count": 21,
   "metadata": {},
   "outputs": [
    {
     "name": "stdout",
     "output_type": "stream",
     "text": [
      "                            OLS Regression Results                            \n",
      "==============================================================================\n",
      "Dep. Variable:             churn_rate   R-squared:                       0.007\n",
      "Model:                            OLS   Adj. R-squared:                  0.002\n",
      "Method:                 Least Squares   F-statistic:                     1.381\n",
      "Date:                Thu, 12 Jan 2023   Prob (F-statistic):              0.241\n",
      "Time:                        19:51:43   Log-Likelihood:                 97.248\n",
      "No. Observations:                 212   AIC:                            -190.5\n",
      "Df Residuals:                     210   BIC:                            -183.8\n",
      "Df Model:                           1                                         \n",
      "Covariance Type:            nonrobust                                         \n",
      "==========================================================================================\n",
      "                             coef    std err          t      P>|t|      [0.025      0.975]\n",
      "------------------------------------------------------------------------------------------\n",
      "Intercept                  0.1327      0.017      7.664      0.000       0.099       0.167\n",
      "customer_service_calls     0.0096      0.008      1.175      0.241      -0.006       0.026\n",
      "==============================================================================\n",
      "Omnibus:                      152.028   Durbin-Watson:                   2.117\n",
      "Prob(Omnibus):                  0.000   Jarque-Bera (JB):             1516.649\n",
      "Skew:                           2.727   Prob(JB):                         0.00\n",
      "Kurtosis:                      14.914   Cond. No.                         4.02\n",
      "==============================================================================\n",
      "\n",
      "Notes:\n",
      "[1] Standard Errors assume that the covariance matrix of the errors is correctly specified.\n"
     ]
    }
   ],
   "source": [
    "customer_service_calls = Telecomdf['customer service calls']\n",
    "\n",
    "# create a formula for the regression\n",
    "formula = 'churn_rate ~ customer_service_calls'\n",
    "\n",
    "# fit the regression to the data\n",
    "results = smf.ols(formula, data=Telecomdf).fit()\n",
    "\n",
    "# print a summary of the results\n",
    "print(results.summary())"
   ]
  },
  {
   "cell_type": "code",
   "execution_count": 22,
   "metadata": {},
   "outputs": [
    {
     "data": {
      "text/plain": [
       "<seaborn.axisgrid.FacetGrid at 0x1e3bb4287c0>"
      ]
     },
     "execution_count": 22,
     "metadata": {},
     "output_type": "execute_result"
    },
    {
     "data": {
      "image/png": "[encoded data removed]",
      "text/plain": [
       "<Figure size 402.375x360 with 1 Axes>"
      ]
     },
     "metadata": {
      "needs_background": "light"
     },
     "output_type": "display_data"
    }
   ],
   "source": [
    "sns.lmplot(x='customer service calls', y='churn_rate', hue='churn', data=Telecomdf)"
   ]
  },
  {
   "cell_type": "code",
   "execution_count": 23,
   "metadata": {},
   "outputs": [
    {
     "data": {
      "image/png": "[encoded data removed]",
      "text/plain": [
       "<Figure size 360x360 with 1 Axes>"
      ]
     },
     "metadata": {
      "needs_background": "light"
     },
     "output_type": "display_data"
    }
   ],
   "source": [
    "sns.lmplot(x='customer service calls', y='churn', data=Telecomdf)\n",
    "plt.title('The impact of Customer Service Calls on Churn')\n",
    "plt.xlabel('Number of Customer Service Calls')\n",
    "plt.ylabel('Churn Rate (%)')\n",
    "plt.show()"
   ]
  },
  {
   "cell_type": "markdown",
   "metadata": {},
   "source": [
    "Its clear that customers who suffer from having to call customer service (someone who has a problem) is more likely to leave this company.\n",
    "\n",
    "Based off this I recommend we do more research into the areas that are more prone to customers calling customer service and look into what is causing these problems.  We need to update/upgrade infastructure possibly?"
   ]
  },
  {
   "cell_type": "code",
   "execution_count": 24,
   "metadata": {},
   "outputs": [
    {
     "data": {
      "image/png": "[encoded data removed]",
      "text/plain": [
       "<Figure size 720x360 with 1 Axes>"
      ]
     },
     "metadata": {
      "needs_background": "light"
     },
     "output_type": "display_data"
    }
   ],
   "source": [
    "# calculate the percentage of customers that churned for each area code\n",
    "Telecomdf['churn'] = Telecomdf['churn'].replace({0: 'No', 1: 'Yes'})\n",
    "churn_by_area = Telecomdf.groupby(['area code', 'churn'])['customer service calls'].count().unstack().reset_index()\n",
    "churn_by_area['churn rate'] = (churn_by_area['Yes']/(churn_by_area['Yes'] + churn_by_area['No']))*100\n",
    "\n",
    "# create a stacked bar chart\n",
    "ax = churn_by_area.plot(kind='bar', stacked=True, x='area code', y=['No', 'Yes'], figsize=(10,5))\n",
    "ax.set_xlabel('Area Code')\n",
    "ax.set_ylabel('Number of Customers')\n",
    "plt.legend([\"Retained\", \"Churned\"])\n",
    "plt.title('Churn rate by Area Code')\n",
    "\n",
    "for i in range(len(churn_by_area)):\n",
    "    ax.annotate(str(round(churn_by_area.loc[i, 'churn rate'],2)) + '%', xy=(i, churn_by_area.loc[i, 'No'] + churn_by_area.loc[i, 'Yes']), xytext=(i, churn_by_area.loc[i, 'No'] + churn_by_area.loc[i, 'Yes'] + 200), \n",
    "                arrowprops=dict(facecolor='black', shrink=0.05))\n",
    "\n",
    "plt.show()"
   ]
  },
  {
   "cell_type": "markdown",
   "metadata": {},
   "source": [
    "people are leaving this company spread evenly over these 3 zipcodes, I recommend improving the quality of infastructure throughout all 3 areas, not only will it lower churn in short term, but will \"future proof\" the entire company and will stave off churn long term.\n",
    "\n",
    "If we dont want to spend money on infastructure, we can at the very least see here that there is no difference between zipcodes so any changes we make should be company wide and not limited to one area."
   ]
  },
  {
   "cell_type": "code",
   "execution_count": 25,
   "metadata": {},
   "outputs": [
    {
     "name": "stdout",
     "output_type": "stream",
     "text": [
      "                            OLS Regression Results                            \n",
      "==============================================================================\n",
      "Dep. Variable:             churn_rate   R-squared:                       0.008\n",
      "Model:                            OLS   Adj. R-squared:                 -0.002\n",
      "Method:                 Least Squares   F-statistic:                    0.8236\n",
      "Date:                Thu, 12 Jan 2023   Prob (F-statistic):              0.440\n",
      "Time:                        19:51:44   Log-Likelihood:                 97.385\n",
      "No. Observations:                 212   AIC:                            -188.8\n",
      "Df Residuals:                     209   BIC:                            -178.7\n",
      "Df Model:                           2                                         \n",
      "Covariance Type:            nonrobust                                         \n",
      "==========================================================================================\n",
      "                             coef    std err          t      P>|t|      [0.025      0.975]\n",
      "------------------------------------------------------------------------------------------\n",
      "Intercept                  0.1645      0.064      2.588      0.010       0.039       0.290\n",
      "total_charge              -0.0005      0.001     -0.520      0.604      -0.003       0.001\n",
      "customer_service_calls     0.0093      0.008      1.136      0.257      -0.007       0.025\n",
      "==============================================================================\n",
      "Omnibus:                      152.041   Durbin-Watson:                   2.127\n",
      "Prob(Omnibus):                  0.000   Jarque-Bera (JB):             1517.543\n",
      "Skew:                           2.727   Prob(JB):                         0.00\n",
      "Kurtosis:                      14.918   Cond. No.                         365.\n",
      "==============================================================================\n",
      "\n",
      "Notes:\n",
      "[1] Standard Errors assume that the covariance matrix of the errors is correctly specified.\n"
     ]
    }
   ],
   "source": [
    "customer_service_calls = Telecomdf['customer service calls']\n",
    "\n",
    "# Define the regression formula\n",
    "formula = 'churn_rate ~ total_charge + customer_service_calls'\n",
    "\n",
    "# Fit the regression model\n",
    "model = smf.ols(formula, data=Telecomdf).fit()\n",
    "\n",
    "# Print the model summary\n",
    "print(model.summary())"
   ]
  },
  {
   "cell_type": "code",
   "execution_count": 26,
   "metadata": {},
   "outputs": [
    {
     "data": {
      "text/plain": [
       "<seaborn.axisgrid.FacetGrid at 0x1e3bb348be0>"
      ]
     },
     "execution_count": 26,
     "metadata": {},
     "output_type": "execute_result"
    },
    {
     "data": {
      "image/png": "[encoded data removed]",
      "text/plain": [
       "<Figure size 412x360 with 1 Axes>"
      ]
     },
     "metadata": {
      "needs_background": "light"
     },
     "output_type": "display_data"
    }
   ],
   "source": [
    "sns.lmplot(x='customer service calls', y='churn_rate', hue='churn', data=Telecomdf)"
   ]
  },
  {
   "cell_type": "code",
   "execution_count": 27,
   "metadata": {},
   "outputs": [
    {
     "data": {
      "text/plain": [
       "<seaborn.axisgrid.FacetGrid at 0x1e3bb684c70>"
      ]
     },
     "execution_count": 27,
     "metadata": {},
     "output_type": "execute_result"
    },
    {
     "data": {
      "image/png": "[encoded data removed]",
      "text/plain": [
       "<Figure size 720x360 with 2 Axes>"
      ]
     },
     "metadata": {
      "needs_background": "light"
     },
     "output_type": "display_data"
    },
    {
     "data": {
      "image/png": "[encoded data removed]",
      "text/plain": [
       "<Figure size 720x360 with 2 Axes>"
      ]
     },
     "metadata": {
      "needs_background": "light"
     },
     "output_type": "display_data"
    }
   ],
   "source": [
    "#function to create two scatter plots, one with 'total_charge' on the x-axis and 'churn_rate' on the y-axis, and the other with 'customer service calls' on the x-axis and 'churn_rate' on the y-axis\n",
    "sns.lmplot(x='total_charge', y='churn_rate', data=Telecomdf, col='churn', height=5, aspect=1)\n",
    "sns.lmplot(x='customer service calls', y='churn_rate', data=Telecomdf, col='churn', height=5, aspect=1)"
   ]
  },
  {
   "cell_type": "markdown",
   "metadata": {},
   "source": [
    "from these plots above I can see that the more impactful variable to keep churn low would be customer service."
   ]
  },
  {
   "cell_type": "markdown",
   "metadata": {},
   "source": [
    "# churn vs international_plan"
   ]
  },
  {
   "cell_type": "code",
   "execution_count": 31,
   "metadata": {},
   "outputs": [
    {
     "name": "stdout",
     "output_type": "stream",
     "text": [
      "                            OLS Regression Results                            \n",
      "==============================================================================\n",
      "Dep. Variable:             churn_rate   R-squared:                       0.005\n",
      "Model:                            OLS   Adj. R-squared:                 -0.000\n",
      "Method:                 Least Squares   F-statistic:                    0.9570\n",
      "Date:                Thu, 12 Jan 2023   Prob (F-statistic):              0.329\n",
      "Time:                        19:59:11   Log-Likelihood:                 97.035\n",
      "No. Observations:                 212   AIC:                            -190.1\n",
      "Df Residuals:                     210   BIC:                            -183.4\n",
      "Df Model:                           1                                         \n",
      "Covariance Type:            nonrobust                                         \n",
      "===================================================================================\n",
      "                      coef    std err          t      P>|t|      [0.025      0.975]\n",
      "-----------------------------------------------------------------------------------\n",
      "Intercept           0.1548      0.012     12.689      0.000       0.131       0.179\n",
      "voice_mail_plan    -0.0239      0.024     -0.978      0.329      -0.072       0.024\n",
      "==============================================================================\n",
      "Omnibus:                      146.725   Durbin-Watson:                   2.113\n",
      "Prob(Omnibus):                  0.000   Jarque-Bera (JB):             1362.502\n",
      "Skew:                           2.627   Prob(JB):                    1.37e-296\n",
      "Kurtosis:                      14.253   Cond. No.                         2.48\n",
      "==============================================================================\n",
      "\n",
      "Notes:\n",
      "[1] Standard Errors assume that the covariance matrix of the errors is correctly specified.\n"
     ]
    }
   ],
   "source": [
    "# create a formula for the regression\n",
    "formula = 'churn_rate ~ voice_mail_plan'\n",
    "\n",
    "# fit the regression to the data\n",
    "results = smf.ols(formula, data=Telecomdf).fit()\n",
    "\n",
    "# print a summary of the results\n",
    "print(results.summary())"
   ]
  },
  {
   "cell_type": "code",
   "execution_count": null,
   "metadata": {},
   "outputs": [],
   "source": []
  }
 ],
 "metadata": {
  "kernelspec": {
   "display_name": "Python 3",
   "language": "python",
   "name": "python3"
  },
  "language_info": {
   "codemirror_mode": {
    "name": "ipython",
    "version": 3
   },
   "file_extension": ".py",
   "mimetype": "text/x-python",
   "name": "python",
   "nbconvert_exporter": "python",
   "pygments_lexer": "ipython3",
   "version": "3.8.5"
  }
 },
 "nbformat": 4,
 "nbformat_minor": 4
}
